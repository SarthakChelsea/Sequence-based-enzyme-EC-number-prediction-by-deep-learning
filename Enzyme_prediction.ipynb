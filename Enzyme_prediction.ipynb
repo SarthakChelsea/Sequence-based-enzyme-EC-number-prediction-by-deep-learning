{
  "nbformat": 4,
  "nbformat_minor": 0,
  "metadata": {
    "colab": {
      "provenance": [],
      "gpuType": "V28"
    },
    "kernelspec": {
      "name": "python3",
      "display_name": "Python 3"
    },
    "language_info": {
      "name": "python"
    },
    "accelerator": "TPU"
  },
  "cells": [
    {
      "cell_type": "code",
      "execution_count": 1,
      "metadata": {
        "id": "RfOiWXmhYb8n"
      },
      "outputs": [],
      "source": [
        "import pickle\n",
        "import numpy as np\n",
        "import torch\n",
        "import torch.nn as nn\n",
        "import torch.optim as optim\n",
        "from torch.utils.data import DataLoader, TensorDataset\n",
        "from sklearn.model_selection import train_test_split\n",
        "import matplotlib.pyplot as plt"
      ]
    },
    {
      "cell_type": "markdown",
      "source": [
        "Loading the data\n",
        "\n",
        "\n",
        "1.   Data loading function:\n",
        "The Pfam_from_pickle_file_encoding function loads protein sequence data and their Pfam (protein family) domain information from pickle files. It creates a one-hot encoded feature vector for each sequence based on the presence of specific Pfam domains.\n",
        "\n",
        "2. Loading the data:\n",
        "The code loads enzyme and non-enzyme features using the function defined earlier. It then combines these features and creates corresponding labels (1 for enzymes, 0 for non-enzymes).\n",
        "\n",
        "\n"
      ],
      "metadata": {
        "id": "Ng8ZU7t9ZsNj"
      }
    },
    {
      "cell_type": "code",
      "source": [
        "def Pfam_from_pickle_file_encoding(name_list_pickle_filename, model_names_list_filename):\n",
        "    # Load the list of Pfam domain names for each protein sequence\n",
        "    with open(name_list_pickle_filename, 'rb') as f:\n",
        "        name_list = pickle.load(f)\n",
        "\n",
        "    # Load the list of all possible Pfam domain names\n",
        "    with open(model_names_list_filename, 'rb') as f:\n",
        "        model_list = pickle.load(f)\n",
        "\n",
        "    encoding = []\n",
        "    for i, sequence_domains in enumerate(name_list):\n",
        "        if i % 10000 == 0:\n",
        "            print(f'Processing {i}th sequence.')\n",
        "\n",
        "        # Create a binary vector for each sequence\n",
        "        single_encoding = np.zeros(16306)\n",
        "\n",
        "        # Set 1 for each Pfam domain present in the sequence\n",
        "        for domain in sequence_domains:\n",
        "            single_encoding[model_list.index(domain)] = 1\n",
        "\n",
        "        encoding.append(single_encoding)\n",
        "\n",
        "    return encoding\n",
        "\n",
        "# Load enzyme and non-enzyme data\n",
        "print(\"Loading enzyme data...\")\n",
        "enzyme_feature = Pfam_from_pickle_file_encoding('Pfam_name_list_new_data.pickle', 'Pfam_model_names_list.pickle')\n",
        "print(\"Loading non-enzyme data...\")\n",
        "non_enzyme_feature = Pfam_from_pickle_file_encoding('Pfam_name_list_non_enzyme.pickle', 'Pfam_model_names_list.pickle')\n",
        "\n",
        "# Combine the features and create labels\n",
        "features = np.array(enzyme_feature + non_enzyme_feature)\n",
        "labels = np.array([1] * len(enzyme_feature) + [0] * len(non_enzyme_feature))"
      ],
      "metadata": {
        "colab": {
          "base_uri": "https://localhost:8080/"
        },
        "id": "DBkZ2_K8ZJP-",
        "outputId": "a273603d-0955-4550-eef9-85408267fdd2"
      },
      "execution_count": 3,
      "outputs": [
        {
          "output_type": "stream",
          "name": "stdout",
          "text": [
            "Loading enzyme data...\n",
            "Processing 0th sequence.\n",
            "Processing 10000th sequence.\n",
            "Processing 20000th sequence.\n",
            "Loading non-enzyme data...\n",
            "Processing 0th sequence.\n",
            "Processing 10000th sequence.\n",
            "Processing 20000th sequence.\n"
          ]
        }
      ]
    },
    {
      "cell_type": "code",
      "source": [
        "# Convert to PyTorch tensors\n",
        "X = torch.FloatTensor(features)\n",
        "y = torch.LongTensor(labels)\n",
        "\n",
        "# Split the data into training and testing sets\n",
        "X_train, X_test, y_train, y_test = train_test_split(X, y, test_size=0.1, random_state=42)\n",
        "\n",
        "# Create DataLoader for batch processing\n",
        "train_dataset = TensorDataset(X_train, y_train)\n",
        "test_dataset = TensorDataset(X_test, y_test)\n",
        "train_loader = DataLoader(train_dataset, batch_size=1024, shuffle=True)\n",
        "test_loader = DataLoader(test_dataset, batch_size=1024, shuffle=False)\n"
      ],
      "metadata": {
        "id": "xANPj7pva83I"
      },
      "execution_count": 4,
      "outputs": []
    },
    {
      "cell_type": "markdown",
      "source": [
        "Defining the neural network\n",
        "\n",
        "Building the network:\n",
        "A Sequential model is created using Keras. The architecture consists of:\n",
        "\n",
        "\n",
        "An input layer with 16,306 features\n",
        "Two hidden layers with 1024 neurons each, using ReLU activation\n",
        "Dropout layers (30% dropout rate) after each hidden layer to prevent overfitting\n",
        "An output layer with 2 neurons (for binary classification) using softmax activation"
      ],
      "metadata": {
        "id": "dwAE0lVPdOSw"
      }
    },
    {
      "cell_type": "code",
      "source": [
        "# Define the neural network\n",
        "class EnzymeNet(nn.Module):\n",
        "    def __init__(self, input_size, hidden_size, num_classes):\n",
        "        super(EnzymeNet, self).__init__()\n",
        "        self.fc1 = nn.Linear(input_size, hidden_size)\n",
        "        self.bn1 = nn.BatchNorm1d(hidden_size)\n",
        "        self.fc2 = nn.Linear(hidden_size, hidden_size)\n",
        "        self.bn2 = nn.BatchNorm1d(hidden_size)\n",
        "        self.fc3 = nn.Linear(hidden_size, num_classes)\n",
        "        self.dropout = nn.Dropout(0.3)\n",
        "        self.relu = nn.ReLU()\n",
        "\n",
        "    def forward(self, x):\n",
        "        x = self.relu(self.bn1(self.fc1(x)))\n",
        "        x = self.dropout(x)\n",
        "        x = self.relu(self.bn2(self.fc2(x)))\n",
        "        x = self.dropout(x)\n",
        "        x = self.fc3(x)\n",
        "        return x"
      ],
      "metadata": {
        "id": "JUM-l6oQbZRg"
      },
      "execution_count": 5,
      "outputs": []
    },
    {
      "cell_type": "markdown",
      "source": [
        "Training the model"
      ],
      "metadata": {
        "id": "sT0uHp2ydtcK"
      }
    },
    {
      "cell_type": "code",
      "source": [
        "# Initialize the model\n",
        "model = EnzymeNet(input_size=16306, hidden_size=1024, num_classes=2)\n",
        "\n",
        "# Define loss function and optimizer\n",
        "criterion = nn.CrossEntropyLoss()\n",
        "optimizer = optim.Adam(model.parameters(), lr=0.001, weight_decay=1e-5)\n",
        "\n",
        "# Early stopping parameters\n",
        "patience = 5\n",
        "best_val_loss = float('inf')\n",
        "counter = 0\n",
        "\n",
        "# Training loop\n",
        "num_epochs = 20\n",
        "train_losses = []\n",
        "train_accuracies = []\n",
        "val_losses = []\n",
        "val_accuracies = []\n",
        "\n",
        "for epoch in range(num_epochs):\n",
        "    model.train()\n",
        "    train_loss = 0\n",
        "    correct = 0\n",
        "    total = 0\n",
        "\n",
        "    for batch_X, batch_y in train_loader:\n",
        "        optimizer.zero_grad()\n",
        "        outputs = model(batch_X)\n",
        "        loss = criterion(outputs, batch_y)\n",
        "        loss.backward()\n",
        "        optimizer.step()\n",
        "\n",
        "        train_loss += loss.item()\n",
        "        _, predicted = outputs.max(1)\n",
        "        total += batch_y.size(0)\n",
        "        correct += predicted.eq(batch_y).sum().item()\n",
        "\n",
        "    train_loss /= len(train_loader)\n",
        "    train_accuracy = 100. * correct / total\n",
        "    train_losses.append(train_loss)\n",
        "    train_accuracies.append(train_accuracy)\n",
        "\n",
        "    # Validation\n",
        "    model.eval()\n",
        "    val_loss = 0\n",
        "    correct = 0\n",
        "    total = 0\n",
        "\n",
        "    with torch.no_grad():\n",
        "        for batch_X, batch_y in test_loader:\n",
        "            outputs = model(batch_X)\n",
        "            loss = criterion(outputs, batch_y)\n",
        "            val_loss += loss.item()\n",
        "            _, predicted = outputs.max(1)\n",
        "            total += batch_y.size(0)\n",
        "            correct += predicted.eq(batch_y).sum().item()\n",
        "\n",
        "    val_loss /= len(test_loader)\n",
        "    val_accuracy = 100. * correct / total\n",
        "    val_losses.append(val_loss)\n",
        "    val_accuracies.append(val_accuracy)\n",
        "\n",
        "    print(f'Epoch [{epoch+1}/{num_epochs}], Train Loss: {train_loss:.4f}, Train Acc: {train_accuracy:.2f}%, '\n",
        "          f'Val Loss: {val_loss:.4f}, Val Acc: {val_accuracy:.2f}%')\n",
        "\n",
        "    # Early stopping\n",
        "    if val_loss < best_val_loss:\n",
        "        best_val_loss = val_loss\n",
        "        counter = 0\n",
        "        torch.save(model.state_dict(), 'best_model.pth')\n",
        "    else:\n",
        "        counter += 1\n",
        "        if counter >= patience:\n",
        "            print(\"Early stopping\")\n",
        "            break\n",
        "\n"
      ],
      "metadata": {
        "colab": {
          "base_uri": "https://localhost:8080/"
        },
        "id": "tT7VSHeqdWY_",
        "outputId": "718a98a1-78a7-4778-cefc-fcf97a5a80a6"
      },
      "execution_count": 9,
      "outputs": [
        {
          "output_type": "stream",
          "name": "stdout",
          "text": [
            "Epoch [1/20], Train Loss: 0.2870, Train Acc: 89.56%, Val Loss: 0.9314, Val Acc: 50.45%\n",
            "Epoch [2/20], Train Loss: 0.1236, Train Acc: 95.93%, Val Loss: 0.1801, Val Acc: 93.73%\n",
            "Epoch [3/20], Train Loss: 0.1033, Train Acc: 96.60%, Val Loss: 0.1783, Val Acc: 94.29%\n",
            "Epoch [4/20], Train Loss: 0.0953, Train Acc: 96.76%, Val Loss: 0.1828, Val Acc: 94.41%\n",
            "Epoch [5/20], Train Loss: 0.0902, Train Acc: 96.92%, Val Loss: 0.1938, Val Acc: 94.38%\n",
            "Epoch [6/20], Train Loss: 0.0877, Train Acc: 97.06%, Val Loss: 0.1901, Val Acc: 94.23%\n",
            "Epoch [7/20], Train Loss: 0.0835, Train Acc: 97.16%, Val Loss: 0.1935, Val Acc: 94.32%\n",
            "Epoch [8/20], Train Loss: 0.0801, Train Acc: 97.22%, Val Loss: 0.2082, Val Acc: 94.05%\n",
            "Early stopping\n"
          ]
        }
      ]
    },
    {
      "cell_type": "code",
      "source": [
        "# Visualizations\n",
        "plt.figure(figsize=(12, 5))\n",
        "plt.subplot(1, 2, 1)\n",
        "plt.plot(train_losses, label='Train Loss')\n",
        "plt.plot(val_losses, label='Validation Loss')\n",
        "plt.xlabel('Epoch')\n",
        "plt.ylabel('Loss')\n",
        "plt.legend()\n",
        "plt.title('Training and Validation Loss')\n",
        "\n",
        "plt.subplot(1, 2, 2)\n",
        "plt.plot(train_accuracies, label='Train Accuracy')\n",
        "plt.plot(val_accuracies, label='Validation Accuracy')\n",
        "plt.xlabel('Epoch')\n",
        "plt.ylabel('Accuracy (%)')\n",
        "plt.legend()\n",
        "plt.title('Training and Validation Accuracy')\n",
        "\n",
        "plt.tight_layout()\n",
        "plt.show()\n",
        "\n",
        "# Load best model and evaluate on test set\n",
        "model.load_state_dict(torch.load('best_model.pth'))\n",
        "model.eval()\n",
        "test_loss = 0\n",
        "correct = 0\n",
        "total = 0\n",
        "\n",
        "with torch.no_grad():\n",
        "    for batch_X, batch_y in test_loader:\n",
        "        outputs = model(batch_X)\n",
        "        loss = criterion(outputs, batch_y)\n",
        "        test_loss += loss.item()\n",
        "        _, predicted = outputs.max(1)\n",
        "        total += batch_y.size(0)\n",
        "        correct += predicted.eq(batch_y).sum().item()\n",
        "\n",
        "test_loss /= len(test_loader)\n",
        "test_accuracy = 100. * correct / total\n",
        "\n",
        "print(f'Test Loss: {test_loss:.4f}, Test Accuracy: {test_accuracy:.2f}%')\n",
        "\n",
        "# Save the trained model\n",
        "torch.save(model.state_dict(), 'trained_model.pth')"
      ],
      "metadata": {
        "colab": {
          "base_uri": "https://localhost:8080/",
          "height": 409
        },
        "id": "yYCjECt1drm4",
        "outputId": "6418758b-c7d5-42db-8107-fd804b016f7a"
      },
      "execution_count": 10,
      "outputs": [
        {
          "output_type": "display_data",
          "data": {
            "text/plain": [
              "<Figure size 1200x500 with 2 Axes>"
            ],
            "image/png": "[encoded data removed]"
          },
          "metadata": {}
        },
        {
          "output_type": "stream",
          "name": "stdout",
          "text": [
            "Test Loss: 0.1783, Test Accuracy: 94.29%\n"
          ]
        }
      ]
    },
    {
      "cell_type": "code",
      "source": [],
      "metadata": {
        "id": "vk0ivbqUfRKd"
      },
      "execution_count": null,
      "outputs": []
    }
  ]
}